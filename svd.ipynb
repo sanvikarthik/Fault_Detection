{
 "cells": [
  {
   "cell_type": "code",
   "execution_count": 7,
   "metadata": {},
   "outputs": [],
   "source": [
    "import numpy as np\n",
    "import pandas as pd\n",
    "from sklearn.preprocessing import MinMaxScaler"
   ]
  },
  {
   "cell_type": "code",
   "execution_count": 8,
   "metadata": {},
   "outputs": [
    {
     "name": "stdout",
     "output_type": "stream",
     "text": [
      "Type of train_data: <class 'pandas.core.frame.DataFrame'>\n",
      "Type of val_data: <class 'pandas.core.frame.DataFrame'>\n",
      "Type of test_data: <class 'pandas.core.frame.DataFrame'>\n",
      "Columns in train_data: Index(['id', 'bearings', 'wpump', 'radiator', 'exvalve', 'acmotor', 'air_flow',\n",
      "       'noise_db', 'outlet_temp', 'water_inlet_temp', 'water_outlet_temp',\n",
      "       'water_flow', 'oil_tank_temp'],\n",
      "      dtype='object')\n",
      "Columns in val_data: Index(['id', 'bearings', 'wpump', 'radiator', 'exvalve', 'acmotor', 'air_flow',\n",
      "       'noise_db', 'outlet_temp', 'water_inlet_temp', 'water_outlet_temp',\n",
      "       'water_flow', 'oil_tank_temp'],\n",
      "      dtype='object')\n",
      "Columns in test_data: Index(['id', 'bearings', 'wpump', 'radiator', 'exvalve', 'acmotor', 'air_flow',\n",
      "       'noise_db', 'outlet_temp', 'water_inlet_temp', 'water_outlet_temp',\n",
      "       'water_flow', 'oil_tank_temp'],\n",
      "      dtype='object')\n",
      "Numeric columns in train_data: Index(['id', 'air_flow', 'noise_db', 'outlet_temp', 'water_inlet_temp',\n",
      "       'water_outlet_temp', 'water_flow', 'oil_tank_temp'],\n",
      "      dtype='object')\n",
      "Numeric columns in val_data: Index(['id', 'air_flow', 'noise_db', 'outlet_temp', 'water_inlet_temp',\n",
      "       'water_outlet_temp', 'water_flow', 'oil_tank_temp'],\n",
      "      dtype='object')\n",
      "Numeric columns in test_data: Index(['id', 'air_flow', 'noise_db', 'outlet_temp', 'water_inlet_temp',\n",
      "       'water_outlet_temp', 'water_flow', 'oil_tank_temp'],\n",
      "      dtype='object')\n"
     ]
    }
   ],
   "source": [
    "# Load data\n",
    "train_data = pd.read_csv('training_set _labelled.csv')\n",
    "val_data = pd.read_csv('validation_set _labelled.csv')\n",
    "test_data = pd.read_csv('testing_set _labelled.csv')\n",
    "\n",
    "print(\"Type of train_data:\", type(train_data))\n",
    "print(\"Type of val_data:\", type(val_data))\n",
    "print(\"Type of test_data:\", type(test_data))\n",
    "\n",
    "\n",
    "# Inspect and remove non-numeric columns\n",
    "print(\"Columns in train_data:\", train_data.columns)\n",
    "print(\"Columns in val_data:\", val_data.columns)\n",
    "print(\"Columns in test_data:\", test_data.columns)\n",
    "\n",
    "# Remove non-numeric columns\n",
    "train_data = train_data.select_dtypes(include=[np.number])\n",
    "val_data = val_data.select_dtypes(include=[np.number])\n",
    "test_data = test_data.select_dtypes(include=[np.number])\n",
    "\n",
    "print(\"Numeric columns in train_data:\", train_data.columns)\n",
    "print(\"Numeric columns in val_data:\", val_data.columns)\n",
    "print(\"Numeric columns in test_data:\", test_data.columns)\n",
    "\n",
    "# Convert to numpy arrays\n",
    "train_data = train_data.values\n",
    "val_data = val_data.values\n",
    "test_data = test_data.values"
   ]
  },
  {
   "cell_type": "code",
   "execution_count": 9,
   "metadata": {},
   "outputs": [],
   "source": [
    "U, S, VT = np.linalg.svd(train_data, full_matrices=False)\n",
    "\n",
    "# reduce dimensionality\n",
    "k = 10  \n",
    "U_k = U[:, :k]\n",
    "S_k = np.diag(S[:k])\n",
    "VT_k = VT[:k, :]\n",
    "\n",
    "# Generate synthetic data\n",
    "synthetic_data = np.dot(U_k, np.dot(S_k, VT_k))"
   ]
  },
  {
   "cell_type": "code",
   "execution_count": 10,
   "metadata": {},
   "outputs": [
    {
     "name": "stdout",
     "output_type": "stream",
     "text": [
      "Shape of synthetic_data: (700, 8)\n",
      "Shape of synthetic_data: (700, 8)\n"
     ]
    }
   ],
   "source": [
    "scaler = MinMaxScaler()  \n",
    "scaler.fit(train_data)   \n",
    "synthetic_data = scaler.inverse_transform(synthetic_data)\n",
    "\n",
    "print(\"Shape of synthetic_data:\", synthetic_data.shape)\n",
    "\n",
    "\n",
    "columns = train_data.columns if isinstance(train_data, pd.DataFrame) else None\n",
    "\n",
    "\n",
    "if columns is not None:\n",
    "    synthetic_df = pd.DataFrame(synthetic_data, columns=columns)\n",
    "else:\n",
    "    synthetic_df = pd.DataFrame(synthetic_data)\n",
    "\n",
    "\n",
    "print(\"Shape of synthetic_data:\", synthetic_data.shape)\n",
    "\n",
    "\n",
    "synthetic_df.to_csv('synthetic_data.csv', index=False)"
   ]
  }
 ],
 "metadata": {
  "kernelspec": {
   "display_name": "env",
   "language": "python",
   "name": "python3"
  },
  "language_info": {
   "codemirror_mode": {
    "name": "ipython",
    "version": 3
   },
   "file_extension": ".py",
   "mimetype": "text/x-python",
   "name": "python",
   "nbconvert_exporter": "python",
   "pygments_lexer": "ipython3",
   "version": "3.10.12"
  }
 },
 "nbformat": 4,
 "nbformat_minor": 2
}
